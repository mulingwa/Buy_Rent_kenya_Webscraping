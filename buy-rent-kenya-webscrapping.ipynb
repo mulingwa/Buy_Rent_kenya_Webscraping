{
 "cells": [
  {
   "cell_type": "code",
   "execution_count": 2,
   "id": "2987c3f9",
   "metadata": {},
   "outputs": [
    {
     "name": "stdout",
     "output_type": "stream",
     "text": [
      "Defaulting to user installation because normal site-packages is not writeable\n",
      "Requirement already satisfied: requests in c:\\users\\admin\\appdata\\local\\packages\\pythonsoftwarefoundation.python.3.12_qbz5n2kfra8p0\\localcache\\local-packages\\python312\\site-packages (2.32.2)\n",
      "Requirement already satisfied: charset-normalizer<4,>=2 in c:\\users\\admin\\appdata\\local\\packages\\pythonsoftwarefoundation.python.3.12_qbz5n2kfra8p0\\localcache\\local-packages\\python312\\site-packages (from requests) (3.3.2)\n",
      "Requirement already satisfied: idna<4,>=2.5 in c:\\users\\admin\\appdata\\local\\packages\\pythonsoftwarefoundation.python.3.12_qbz5n2kfra8p0\\localcache\\local-packages\\python312\\site-packages (from requests) (3.7)\n",
      "Requirement already satisfied: urllib3<3,>=1.21.1 in c:\\users\\admin\\appdata\\local\\packages\\pythonsoftwarefoundation.python.3.12_qbz5n2kfra8p0\\localcache\\local-packages\\python312\\site-packages (from requests) (2.2.1)\n",
      "Requirement already satisfied: certifi>=2017.4.17 in c:\\users\\admin\\appdata\\local\\packages\\pythonsoftwarefoundation.python.3.12_qbz5n2kfra8p0\\localcache\\local-packages\\python312\\site-packages (from requests) (2024.2.2)\n"
     ]
    }
   ],
   "source": [
    "!pip install requests"
   ]
  },
  {
   "cell_type": "code",
   "execution_count": 3,
   "id": "075bfbb9",
   "metadata": {},
   "outputs": [
    {
     "name": "stdout",
     "output_type": "stream",
     "text": [
      "Defaulting to user installation because normal site-packages is not writeable\n",
      "Requirement already satisfied: bs4 in c:\\users\\admin\\appdata\\local\\packages\\pythonsoftwarefoundation.python.3.12_qbz5n2kfra8p0\\localcache\\local-packages\\python312\\site-packages (0.0.2)\n",
      "Requirement already satisfied: beautifulsoup4 in c:\\users\\admin\\appdata\\local\\packages\\pythonsoftwarefoundation.python.3.12_qbz5n2kfra8p0\\localcache\\local-packages\\python312\\site-packages (from bs4) (4.12.3)\n",
      "Requirement already satisfied: soupsieve>1.2 in c:\\users\\admin\\appdata\\local\\packages\\pythonsoftwarefoundation.python.3.12_qbz5n2kfra8p0\\localcache\\local-packages\\python312\\site-packages (from beautifulsoup4->bs4) (2.5)\n"
     ]
    }
   ],
   "source": [
    "!pip install bs4"
   ]
  },
  {
   "cell_type": "code",
   "execution_count": 4,
   "id": "38cbef2e",
   "metadata": {
    "execution": {
     "iopub.execute_input": "2024-05-28T03:15:31.118031Z",
     "iopub.status.busy": "2024-05-28T03:15:31.117664Z",
     "iopub.status.idle": "2024-05-28T03:15:31.416036Z",
     "shell.execute_reply": "2024-05-28T03:15:31.414793Z"
    },
    "papermill": {
     "duration": 0.306212,
     "end_time": "2024-05-28T03:15:31.418820",
     "exception": false,
     "start_time": "2024-05-28T03:15:31.112608",
     "status": "completed"
    },
    "tags": []
   },
   "outputs": [],
   "source": [
    "import csv\n",
    "import os\n",
    "import time\n",
    "import requests\n",
    "from bs4 import BeautifulSoup"
   ]
  },
  {
   "cell_type": "code",
   "execution_count": 5,
   "id": "3a322165",
   "metadata": {},
   "outputs": [],
   "source": [
    "url =' https://www.buyrentkenya.com/houses-for-sale'\n",
    "# set up the webscrapping agent for chrome\n",
    "agent = 'Mozilla/5.0 (Windows NT 10.0; Win64; x64) AppleWebKit/537.36 (KHTML, like Gecko) Chrome/122.0.0.0 Safari/537.36'\n",
    "# headers dictionary to send with the GET request\n",
    "HEADERS = {'User-Agent': agent, 'Accept-Language': 'en-US, en'}"
   ]
  },
  {
   "cell_type": "code",
   "execution_count": 6,
   "id": "6ef3ad7e",
   "metadata": {
    "execution": {
     "iopub.execute_input": "2024-05-28T03:15:31.428180Z",
     "iopub.status.busy": "2024-05-28T03:15:31.427639Z",
     "iopub.status.idle": "2024-05-28T03:15:31.892831Z",
     "shell.execute_reply": "2024-05-28T03:15:31.891338Z"
    },
    "papermill": {
     "duration": 0.472601,
     "end_time": "2024-05-28T03:15:31.895182",
     "exception": true,
     "start_time": "2024-05-28T03:15:31.422581",
     "status": "failed"
    },
    "tags": []
   },
   "outputs": [],
   "source": [
    "# get the data\n",
    "data = requests.get(url, headers=HEADERS)"
   ]
  },
  {
   "cell_type": "code",
   "execution_count": 7,
   "id": "98bc48de",
   "metadata": {
    "execution": {
     "iopub.execute_input": "2024-05-28T02:36:52.197135Z",
     "iopub.status.busy": "2024-05-28T02:36:52.196688Z",
     "iopub.status.idle": "2024-05-28T02:36:52.773901Z",
     "shell.execute_reply": "2024-05-28T02:36:52.772770Z",
     "shell.execute_reply.started": "2024-05-28T02:36:52.197101Z"
    },
    "papermill": {
     "duration": null,
     "end_time": null,
     "exception": null,
     "start_time": null,
     "status": "pending"
    },
    "tags": []
   },
   "outputs": [],
   "source": [
    "# creating a soup object\n",
    "soup = BeautifulSoup(data.text, 'html.parser')"
   ]
  },
  {
   "cell_type": "code",
   "execution_count": 8,
   "id": "8456e438",
   "metadata": {
    "execution": {
     "iopub.execute_input": "2024-05-28T03:06:46.468248Z",
     "iopub.status.busy": "2024-05-28T03:06:46.466785Z",
     "iopub.status.idle": "2024-05-28T03:06:46.537129Z",
     "shell.execute_reply": "2024-05-28T03:06:46.535595Z",
     "shell.execute_reply.started": "2024-05-28T03:06:46.468196Z"
    },
    "papermill": {
     "duration": null,
     "end_time": null,
     "exception": null,
     "start_time": null,
     "status": "pending"
    },
    "tags": []
   },
   "outputs": [],
   "source": [
    "# Finding houses data in the div\n",
    "# _ because clas is a reserved keyword in Python\n",
    "results = soup.find_all('div', class_='listing_card')"
   ]
  },
  {
   "cell_type": "code",
   "execution_count": 9,
   "id": "040ba128",
   "metadata": {
    "execution": {
     "iopub.execute_input": "2024-05-28T03:07:45.432518Z",
     "iopub.status.busy": "2024-05-28T03:07:45.432101Z",
     "iopub.status.idle": "2024-05-28T03:07:45.440867Z",
     "shell.execute_reply": "2024-05-28T03:07:45.439442Z",
     "shell.execute_reply.started": "2024-05-28T03:07:45.432472Z"
    },
    "papermill": {
     "duration": null,
     "end_time": null,
     "exception": null,
     "start_time": null,
     "status": "pending"
    },
    "tags": []
   },
   "outputs": [],
   "source": [
    "# lists to store data in\n",
    "titles = []\n",
    "prices = []\n",
    "descriptions = []\n",
    "locations = []\n",
    "no_of_bedrooms = []\n",
    "no_of_bathrooms = []\n"
   ]
  },
  {
   "cell_type": "code",
   "execution_count": 10,
   "id": "35f945df",
   "metadata": {
    "execution": {
     "iopub.execute_input": "2024-05-28T03:11:20.222025Z",
     "iopub.status.busy": "2024-05-28T03:11:20.221631Z",
     "iopub.status.idle": "2024-05-28T03:12:24.811865Z",
     "shell.execute_reply": "2024-05-28T03:12:24.810592Z",
     "shell.execute_reply.started": "2024-05-28T03:11:20.221997Z"
    },
    "papermill": {
     "duration": null,
     "end_time": null,
     "exception": null,
     "start_time": null,
     "status": "pending"
    },
    "tags": []
   },
   "outputs": [],
   "source": [
    "# find house details\n",
    "houses = soup.find_all('div', class_='listing-card')"
   ]
  },
  {
   "cell_type": "code",
   "execution_count": 11,
   "id": "49d4146e",
   "metadata": {
    "execution": {
     "iopub.execute_input": "2024-05-28T03:13:47.351930Z",
     "iopub.status.busy": "2024-05-28T03:13:47.351543Z",
     "iopub.status.idle": "2024-05-28T03:13:47.357653Z",
     "shell.execute_reply": "2024-05-28T03:13:47.356490Z",
     "shell.execute_reply.started": "2024-05-28T03:13:47.351901Z"
    },
    "papermill": {
     "duration": null,
     "end_time": null,
     "exception": null,
     "start_time": null,
     "status": "pending"
    },
    "tags": []
   },
   "outputs": [],
   "source": [
    "# loop through first page houses\n",
    "for page in range(1,180):\n",
    "\n",
    "    for house in houses:\n",
    "        title = house.find('span', class_='relative top-[2px] hidden md:inline').text.strip()\n",
    "        price = house.find('p', class_='text-xl font-bold leading-7 text-grey-900').text.strip()\n",
    "        description = house.find('a',class_='block truncate text-grey-500 no-underline').text.strip()\n",
    "        location = house.find('p', class_='ml-1 truncate text-sm font-normal capitalize text-grey-650').text.strip()\n",
    "        no_of_bedroom = house.find_all('span', class_='whitespace-nowrap font-normal')[0].text.strip()\n",
    "        no_of_bathroom = house.find_all('span', class_='whitespace-nowrap font-normal')[1].text.strip()\n",
    "\n",
    "        titles.append(title)\n",
    "        locations.append(location)\n",
    "        descriptions.append(description)\n",
    "        prices.append(price)\n",
    "        no_of_bedrooms.append(no_of_bedroom)\n",
    "        no_of_bathrooms.append(no_of_bathroom)\n",
    "        "
   ]
  },
  {
   "cell_type": "code",
   "execution_count": 12,
   "metadata": {},
   "outputs": [
    {
     "data": {
      "text/plain": [
       "True"
      ]
     },
     "execution_count": 12,
     "metadata": {},
     "output_type": "execute_result"
    }
   ],
   "source": [
    "# check whether all the data was scraped successfully\n",
    "len(titles) == len(locations) == len(descriptions) == len(prices) == len(no_of_bedrooms) == len(no_of_bathrooms)"
   ]
  },
  {
   "cell_type": "code",
   "execution_count": 16,
   "id": "aea22007",
   "metadata": {},
   "outputs": [
    {
     "name": "stdout",
     "output_type": "stream",
     "text": [
      "Defaulting to user installation because normal site-packages is not writeable\n",
      "Collecting pandas\n",
      "  Downloading pandas-2.2.2-cp312-cp312-win_amd64.whl.metadata (19 kB)\n",
      "Collecting numpy>=1.26.0 (from pandas)\n",
      "  Downloading numpy-1.26.4-cp312-cp312-win_amd64.whl.metadata (61 kB)\n",
      "     ---------------------------------------- 0.0/61.0 kB ? eta -:--:--\n",
      "     ---------------------------------------- 0.0/61.0 kB ? eta -:--:--\n",
      "     ------ --------------------------------- 10.2/61.0 kB ? eta -:--:--\n",
      "     ------------------- ------------------ 30.7/61.0 kB 330.3 kB/s eta 0:00:01\n",
      "     ------------------------- ------------ 41.0/61.0 kB 245.8 kB/s eta 0:00:01\n",
      "     ------------------------- ------------ 41.0/61.0 kB 245.8 kB/s eta 0:00:01\n",
      "     -------------------------------------- 61.0/61.0 kB 250.2 kB/s eta 0:00:00\n",
      "Requirement already satisfied: python-dateutil>=2.8.2 in c:\\users\\admin\\appdata\\local\\packages\\pythonsoftwarefoundation.python.3.12_qbz5n2kfra8p0\\localcache\\local-packages\\python312\\site-packages (from pandas) (2.8.2)\n",
      "Collecting pytz>=2020.1 (from pandas)\n",
      "  Downloading pytz-2024.1-py2.py3-none-any.whl.metadata (22 kB)\n",
      "Collecting tzdata>=2022.7 (from pandas)\n",
      "  Downloading tzdata-2024.1-py2.py3-none-any.whl.metadata (1.4 kB)\n",
      "Requirement already satisfied: six>=1.5 in c:\\users\\admin\\appdata\\local\\packages\\pythonsoftwarefoundation.python.3.12_qbz5n2kfra8p0\\localcache\\local-packages\\python312\\site-packages (from python-dateutil>=2.8.2->pandas) (1.16.0)\n",
      "Downloading pandas-2.2.2-cp312-cp312-win_amd64.whl (11.5 MB)\n",
      "   ---------------------------------------- 0.0/11.5 MB ? eta -:--:--\n",
      "   ---------------------------------------- 0.0/11.5 MB 1.3 MB/s eta 0:00:09\n",
      "   ---------------------------------------- 0.1/11.5 MB 1.3 MB/s eta 0:00:09\n",
      "   ---------------------------------------- 0.1/11.5 MB 1.3 MB/s eta 0:00:09\n",
      "    --------------------------------------- 0.2/11.5 MB 893.0 kB/s eta 0:00:13\n",
      "    --------------------------------------- 0.3/11.5 MB 1.1 MB/s eta 0:00:10\n",
      "   - -------------------------------------- 0.3/11.5 MB 1.3 MB/s eta 0:00:09\n",
      "   - -------------------------------------- 0.4/11.5 MB 1.1 MB/s eta 0:00:10\n",
      "   - -------------------------------------- 0.5/11.5 MB 1.4 MB/s eta 0:00:08\n",
      "   -- ------------------------------------- 0.6/11.5 MB 1.5 MB/s eta 0:00:08\n",
      "   -- ------------------------------------- 0.9/11.5 MB 1.8 MB/s eta 0:00:06\n",
      "   --- ------------------------------------ 0.9/11.5 MB 1.7 MB/s eta 0:00:07\n",
      "   --- ------------------------------------ 1.1/11.5 MB 1.8 MB/s eta 0:00:06\n",
      "   ---- ----------------------------------- 1.2/11.5 MB 1.9 MB/s eta 0:00:06\n",
      "   ---- ----------------------------------- 1.4/11.5 MB 2.2 MB/s eta 0:00:05\n",
      "   ---- ----------------------------------- 1.4/11.5 MB 2.2 MB/s eta 0:00:05\n",
      "   ---- ----------------------------------- 1.4/11.5 MB 2.2 MB/s eta 0:00:05\n",
      "   ---- ----------------------------------- 1.4/11.5 MB 2.2 MB/s eta 0:00:05\n",
      "   ---- ----------------------------------- 1.4/11.5 MB 2.2 MB/s eta 0:00:05\n",
      "   -------- ------------------------------- 2.5/11.5 MB 2.8 MB/s eta 0:00:04\n",
      "   -------- ------------------------------- 2.5/11.5 MB 2.8 MB/s eta 0:00:04\n",
      "   -------- ------------------------------- 2.5/11.5 MB 2.8 MB/s eta 0:00:04\n",
      "   --------- ------------------------------ 2.6/11.5 MB 2.4 MB/s eta 0:00:04\n",
      "   --------- ------------------------------ 2.8/11.5 MB 2.6 MB/s eta 0:00:04\n",
      "   ---------- ----------------------------- 3.2/11.5 MB 2.8 MB/s eta 0:00:04\n",
      "   ----------- ---------------------------- 3.4/11.5 MB 2.9 MB/s eta 0:00:03\n",
      "   ------------ --------------------------- 3.7/11.5 MB 3.0 MB/s eta 0:00:03\n",
      "   -------------- ------------------------- 4.1/11.5 MB 3.2 MB/s eta 0:00:03\n",
      "   --------------- ------------------------ 4.5/11.5 MB 3.4 MB/s eta 0:00:03\n",
      "   ---------------- ----------------------- 4.7/11.5 MB 3.4 MB/s eta 0:00:02\n",
      "   ----------------- ---------------------- 5.0/11.5 MB 3.5 MB/s eta 0:00:02\n",
      "   ------------------ --------------------- 5.3/11.5 MB 3.6 MB/s eta 0:00:02\n",
      "   ------------------- -------------------- 5.6/11.5 MB 3.7 MB/s eta 0:00:02\n",
      "   -------------------- ------------------- 5.9/11.5 MB 3.8 MB/s eta 0:00:02\n",
      "   --------------------- ------------------ 6.2/11.5 MB 3.9 MB/s eta 0:00:02\n",
      "   ---------------------- ----------------- 6.5/11.5 MB 3.9 MB/s eta 0:00:02\n",
      "   ----------------------- ---------------- 6.8/11.5 MB 3.9 MB/s eta 0:00:02\n",
      "   ----------------------- ---------------- 6.8/11.5 MB 4.0 MB/s eta 0:00:02\n",
      "   ----------------------- ---------------- 6.8/11.5 MB 4.0 MB/s eta 0:00:02\n",
      "   ----------------------- ---------------- 6.8/11.5 MB 4.0 MB/s eta 0:00:02\n",
      "   ----------------------- ---------------- 6.8/11.5 MB 4.0 MB/s eta 0:00:02\n",
      "   ------------------------- -------------- 7.4/11.5 MB 3.9 MB/s eta 0:00:02\n",
      "   ----------------------------- ---------- 8.6/11.5 MB 4.3 MB/s eta 0:00:01\n",
      "   ------------------------------ --------- 8.9/11.5 MB 4.3 MB/s eta 0:00:01\n",
      "   ------------------------------- -------- 9.2/11.5 MB 4.3 MB/s eta 0:00:01\n",
      "   -------------------------------- ------- 9.4/11.5 MB 4.4 MB/s eta 0:00:01\n",
      "   --------------------------------- ------ 9.6/11.5 MB 4.4 MB/s eta 0:00:01\n",
      "   ---------------------------------- ----- 9.9/11.5 MB 4.4 MB/s eta 0:00:01\n",
      "   ----------------------------------- ---- 10.2/11.5 MB 4.4 MB/s eta 0:00:01\n",
      "   ------------------------------------ --- 10.4/11.5 MB 4.7 MB/s eta 0:00:01\n",
      "   ------------------------------------ --- 10.6/11.5 MB 5.0 MB/s eta 0:00:01\n",
      "   ------------------------------------- -- 10.9/11.5 MB 5.1 MB/s eta 0:00:01\n",
      "   -------------------------------------- - 11.2/11.5 MB 5.3 MB/s eta 0:00:01\n",
      "   ---------------------------------------  11.4/11.5 MB 5.3 MB/s eta 0:00:01\n",
      "   ---------------------------------------- 11.5/11.5 MB 5.3 MB/s eta 0:00:00\n",
      "Downloading numpy-1.26.4-cp312-cp312-win_amd64.whl (15.5 MB)\n",
      "   ---------------------------------------- 0.0/15.5 MB ? eta -:--:--\n",
      "    --------------------------------------- 0.3/15.5 MB 5.7 MB/s eta 0:00:03\n",
      "   - -------------------------------------- 0.6/15.5 MB 7.5 MB/s eta 0:00:02\n",
      "   -- ------------------------------------- 0.8/15.5 MB 6.6 MB/s eta 0:00:03\n",
      "   -- ------------------------------------- 1.0/15.5 MB 5.4 MB/s eta 0:00:03\n",
      "   --- ------------------------------------ 1.3/15.5 MB 6.0 MB/s eta 0:00:03\n",
      "   ---- ----------------------------------- 1.6/15.5 MB 6.0 MB/s eta 0:00:03\n",
      "   ---- ----------------------------------- 1.8/15.5 MB 5.7 MB/s eta 0:00:03\n",
      "   ----- ---------------------------------- 2.0/15.5 MB 5.8 MB/s eta 0:00:03\n",
      "   ----- ---------------------------------- 2.3/15.5 MB 5.7 MB/s eta 0:00:03\n",
      "   ------ --------------------------------- 2.6/15.5 MB 5.7 MB/s eta 0:00:03\n",
      "   ------- -------------------------------- 2.9/15.5 MB 5.7 MB/s eta 0:00:03\n",
      "   ------- -------------------------------- 3.1/15.5 MB 5.7 MB/s eta 0:00:03\n",
      "   -------- ------------------------------- 3.4/15.5 MB 5.6 MB/s eta 0:00:03\n",
      "   --------- ------------------------------ 3.6/15.5 MB 5.8 MB/s eta 0:00:03\n",
      "   --------- ------------------------------ 3.7/15.5 MB 5.7 MB/s eta 0:00:03\n",
      "   ---------- ----------------------------- 4.1/15.5 MB 5.6 MB/s eta 0:00:03\n",
      "   ----------- ---------------------------- 4.3/15.5 MB 5.7 MB/s eta 0:00:02\n",
      "   ----------- ---------------------------- 4.6/15.5 MB 5.7 MB/s eta 0:00:02\n",
      "   ------------ --------------------------- 4.8/15.5 MB 5.7 MB/s eta 0:00:02\n",
      "   ------------- -------------------------- 5.1/15.5 MB 5.7 MB/s eta 0:00:02\n",
      "   -------------- ------------------------- 5.5/15.5 MB 5.7 MB/s eta 0:00:02\n",
      "   -------------- ------------------------- 5.7/15.5 MB 5.7 MB/s eta 0:00:02\n",
      "   --------------- ------------------------ 6.0/15.5 MB 5.7 MB/s eta 0:00:02\n",
      "   --------------- ------------------------ 6.1/15.5 MB 5.6 MB/s eta 0:00:02\n",
      "   ---------------- ----------------------- 6.5/15.5 MB 5.6 MB/s eta 0:00:02\n",
      "   ----------------- ---------------------- 6.9/15.5 MB 5.7 MB/s eta 0:00:02\n",
      "   ------------------ --------------------- 7.0/15.5 MB 5.7 MB/s eta 0:00:02\n",
      "   ------------------ --------------------- 7.1/15.5 MB 5.5 MB/s eta 0:00:02\n",
      "   ------------------ --------------------- 7.3/15.5 MB 5.5 MB/s eta 0:00:02\n",
      "   ------------------- -------------------- 7.6/15.5 MB 5.4 MB/s eta 0:00:02\n",
      "   ------------------- -------------------- 7.7/15.5 MB 5.3 MB/s eta 0:00:02\n",
      "   -------------------- ------------------- 8.0/15.5 MB 5.4 MB/s eta 0:00:02\n",
      "   --------------------- ------------------ 8.3/15.5 MB 5.4 MB/s eta 0:00:02\n",
      "   --------------------- ------------------ 8.5/15.5 MB 5.4 MB/s eta 0:00:02\n",
      "   ---------------------- ----------------- 8.8/15.5 MB 5.4 MB/s eta 0:00:02\n",
      "   ----------------------- ---------------- 9.1/15.5 MB 5.5 MB/s eta 0:00:02\n",
      "   ------------------------ --------------- 9.4/15.5 MB 5.5 MB/s eta 0:00:02\n",
      "   ------------------------ --------------- 9.6/15.5 MB 5.5 MB/s eta 0:00:02\n",
      "   ------------------------- -------------- 9.9/15.5 MB 5.5 MB/s eta 0:00:02\n",
      "   -------------------------- ------------- 10.2/15.5 MB 5.5 MB/s eta 0:00:01\n",
      "   -------------------------- ------------- 10.4/15.5 MB 5.5 MB/s eta 0:00:01\n",
      "   --------------------------- ------------ 10.7/15.5 MB 5.5 MB/s eta 0:00:01\n",
      "   --------------------------- ------------ 10.8/15.5 MB 5.5 MB/s eta 0:00:01\n",
      "   ---------------------------- ----------- 11.2/15.5 MB 5.6 MB/s eta 0:00:01\n",
      "   ----------------------------- ---------- 11.4/15.5 MB 5.5 MB/s eta 0:00:01\n",
      "   ------------------------------ --------- 11.7/15.5 MB 5.5 MB/s eta 0:00:01\n",
      "   ------------------------------ --------- 12.0/15.5 MB 5.5 MB/s eta 0:00:01\n",
      "   ------------------------------- -------- 12.2/15.5 MB 5.5 MB/s eta 0:00:01\n",
      "   -------------------------------- ------- 12.5/15.5 MB 5.5 MB/s eta 0:00:01\n",
      "   --------------------------------- ------ 12.8/15.5 MB 5.5 MB/s eta 0:00:01\n",
      "   --------------------------------- ------ 13.1/15.5 MB 5.6 MB/s eta 0:00:01\n",
      "   ---------------------------------- ----- 13.4/15.5 MB 5.5 MB/s eta 0:00:01\n",
      "   ----------------------------------- ---- 13.7/15.5 MB 5.5 MB/s eta 0:00:01\n",
      "   ----------------------------------- ---- 13.9/15.5 MB 5.5 MB/s eta 0:00:01\n",
      "   ------------------------------------ --- 14.2/15.5 MB 5.5 MB/s eta 0:00:01\n",
      "   ------------------------------------- -- 14.4/15.5 MB 5.5 MB/s eta 0:00:01\n",
      "   ------------------------------------- -- 14.6/15.5 MB 5.5 MB/s eta 0:00:01\n",
      "   -------------------------------------- - 15.0/15.5 MB 5.6 MB/s eta 0:00:01\n",
      "   ---------------------------------------  15.2/15.5 MB 5.6 MB/s eta 0:00:01\n",
      "   ---------------------------------------  15.5/15.5 MB 5.6 MB/s eta 0:00:01\n",
      "   ---------------------------------------  15.5/15.5 MB 5.5 MB/s eta 0:00:01\n",
      "   ---------------------------------------- 15.5/15.5 MB 5.4 MB/s eta 0:00:00\n",
      "Downloading pytz-2024.1-py2.py3-none-any.whl (505 kB)\n",
      "   ---------------------------------------- 0.0/505.5 kB ? eta -:--:--\n",
      "   ------------------------ --------------- 307.2/505.5 kB 9.6 MB/s eta 0:00:01\n",
      "   ------------------------ --------------- 307.2/505.5 kB 9.6 MB/s eta 0:00:01\n",
      "   ------------------------ --------------- 307.2/505.5 kB 9.6 MB/s eta 0:00:01\n",
      "   ------------------------ --------------- 307.2/505.5 kB 9.6 MB/s eta 0:00:01\n",
      "   ------------------------ --------------- 307.2/505.5 kB 9.6 MB/s eta 0:00:01\n",
      "   ------------------------ --------------- 307.2/505.5 kB 9.6 MB/s eta 0:00:01\n",
      "   ---------------------------------------- 505.5/505.5 kB 1.6 MB/s eta 0:00:00\n",
      "Downloading tzdata-2024.1-py2.py3-none-any.whl (345 kB)\n",
      "   ---------------------------------------- 0.0/345.4 kB ? eta -:--:--\n",
      "   ------- -------------------------------- 61.4/345.4 kB 3.2 MB/s eta 0:00:01\n",
      "   ---------------------------------------- 345.4/345.4 kB 4.3 MB/s eta 0:00:00\n",
      "Installing collected packages: pytz, tzdata, numpy, pandas\n",
      "Successfully installed numpy-1.26.4 pandas-2.2.2 pytz-2024.1 tzdata-2024.1\n"
     ]
    }
   ],
   "source": [
    "!pip install pandas"
   ]
  },
  {
   "cell_type": "code",
   "execution_count": 17,
   "id": "78849277",
   "metadata": {},
   "outputs": [],
   "source": [
    "# create a dataset and store the scraped data\n",
    "import pandas as pd\n",
    "houses_data = pd.DataFrame(\n",
    "    {'title': titles,\n",
    "     'location': locations,\n",
    "     'description': descriptions,\n",
    "     'price': prices,\n",
    "     'no_of_bedrooms': no_of_bedrooms,\n",
    "     'no_of_bathrooms': no_of_bathrooms}\n",
    ")"
   ]
  },
  {
   "cell_type": "code",
   "execution_count": 18,
   "id": "b0b05557",
   "metadata": {},
   "outputs": [
    {
     "data": {
      "text/html": [
       "<div>\n",
       "<style scoped>\n",
       "    .dataframe tbody tr th:only-of-type {\n",
       "        vertical-align: middle;\n",
       "    }\n",
       "\n",
       "    .dataframe tbody tr th {\n",
       "        vertical-align: top;\n",
       "    }\n",
       "\n",
       "    .dataframe thead th {\n",
       "        text-align: right;\n",
       "    }\n",
       "</style>\n",
       "<table border=\"1\" class=\"dataframe\">\n",
       "  <thead>\n",
       "    <tr style=\"text-align: right;\">\n",
       "      <th></th>\n",
       "      <th>title</th>\n",
       "      <th>location</th>\n",
       "      <th>description</th>\n",
       "      <th>price</th>\n",
       "      <th>no_of_bedrooms</th>\n",
       "      <th>no_of_bathrooms</th>\n",
       "    </tr>\n",
       "  </thead>\n",
       "  <tbody>\n",
       "    <tr>\n",
       "      <th>0</th>\n",
       "      <td>4 Bed House with En Suite at Kitisuru</td>\n",
       "      <td>kitisuru, Kitisuru, Westlands</td>\n",
       "      <td>exclusive residences off Kirawa Road in Kitisu...</td>\n",
       "      <td>KSh 28,000,000</td>\n",
       "      <td>4</td>\n",
       "      <td></td>\n",
       "    </tr>\n",
       "    <tr>\n",
       "      <th>1</th>\n",
       "      <td>5 Bed House with Swimming Pool in Nyari</td>\n",
       "      <td>Nyari, Westlands</td>\n",
       "      <td>Nyaari estate 5 bedroom standalone home.</td>\n",
       "      <td>KSh 125,000,000</td>\n",
       "      <td>5</td>\n",
       "      <td></td>\n",
       "    </tr>\n",
       "    <tr>\n",
       "      <th>2</th>\n",
       "      <td>5 Bed House with En Suite at Karen Road</td>\n",
       "      <td>Karen Road, Karen</td>\n",
       "      <td>5 Bedrooms Villas For Sale in Karen, Aria Park</td>\n",
       "      <td>KSh 140,000,000</td>\n",
       "      <td>5</td>\n",
       "      <td>6</td>\n",
       "    </tr>\n",
       "    <tr>\n",
       "      <th>3</th>\n",
       "      <td>3 Bed House with En Suite in Kitengela</td>\n",
       "      <td>Kitengela</td>\n",
       "      <td>3 BEDROOMS BUNGALOW IN KITENGELA</td>\n",
       "      <td>KSh 6,800,000</td>\n",
       "      <td>3</td>\n",
       "      <td>4</td>\n",
       "    </tr>\n",
       "    <tr>\n",
       "      <th>4</th>\n",
       "      <td>4 Bed House with En Suite in Ruiru</td>\n",
       "      <td>Ruiru</td>\n",
       "      <td>4 BEDROOMS VILLAS IN RUIRU KIMBO</td>\n",
       "      <td>KSh 11,500,000</td>\n",
       "      <td>4</td>\n",
       "      <td>5</td>\n",
       "    </tr>\n",
       "  </tbody>\n",
       "</table>\n",
       "</div>"
      ],
      "text/plain": [
       "                                     title                       location  \\\n",
       "0    4 Bed House with En Suite at Kitisuru  kitisuru, Kitisuru, Westlands   \n",
       "1  5 Bed House with Swimming Pool in Nyari               Nyari, Westlands   \n",
       "2  5 Bed House with En Suite at Karen Road              Karen Road, Karen   \n",
       "3   3 Bed House with En Suite in Kitengela                      Kitengela   \n",
       "4       4 Bed House with En Suite in Ruiru                          Ruiru   \n",
       "\n",
       "                                         description            price  \\\n",
       "0  exclusive residences off Kirawa Road in Kitisu...   KSh 28,000,000   \n",
       "1           Nyaari estate 5 bedroom standalone home.  KSh 125,000,000   \n",
       "2     5 Bedrooms Villas For Sale in Karen, Aria Park  KSh 140,000,000   \n",
       "3                   3 BEDROOMS BUNGALOW IN KITENGELA    KSh 6,800,000   \n",
       "4                   4 BEDROOMS VILLAS IN RUIRU KIMBO   KSh 11,500,000   \n",
       "\n",
       "  no_of_bedrooms no_of_bathrooms  \n",
       "0              4                  \n",
       "1              5                  \n",
       "2              5               6  \n",
       "3              3               4  \n",
       "4              4               5  "
      ]
     },
     "execution_count": 18,
     "metadata": {},
     "output_type": "execute_result"
    }
   ],
   "source": [
    "houses_data.head()"
   ]
  }
 ],
 "metadata": {
  "kaggle": {
   "accelerator": "none",
   "dataSources": [],
   "dockerImageVersionId": 30558,
   "isGpuEnabled": false,
   "isInternetEnabled": true,
   "language": "python",
   "sourceType": "notebook"
  },
  "kernelspec": {
   "display_name": "Python 3",
   "language": "python",
   "name": "python3"
  },
  "language_info": {
   "codemirror_mode": {
    "name": "ipython",
    "version": 3
   },
   "file_extension": ".py",
   "mimetype": "text/x-python",
   "name": "python",
   "nbconvert_exporter": "python",
   "pygments_lexer": "ipython3",
   "version": "3.12.3"
  },
  "papermill": {
   "default_parameters": {},
   "duration": 5.741517,
   "end_time": "2024-05-28T03:15:32.319880",
   "environment_variables": {},
   "exception": true,
   "input_path": "__notebook__.ipynb",
   "output_path": "__notebook__.ipynb",
   "parameters": {},
   "start_time": "2024-05-28T03:15:26.578363",
   "version": "2.4.0"
  }
 },
 "nbformat": 4,
 "nbformat_minor": 5
}
