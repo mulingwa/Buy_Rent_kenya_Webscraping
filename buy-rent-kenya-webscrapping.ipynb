{
 "cells": [
  {
   "cell_type": "code",
   "execution_count": 5,
   "id": "2987c3f9",
   "metadata": {},
   "outputs": [
    {
     "name": "stdout",
     "output_type": "stream",
     "text": [
      "Defaulting to user installation because normal site-packages is not writeable\n",
      "Collecting requests\n",
      "  Downloading requests-2.32.2-py3-none-any.whl.metadata (4.6 kB)\n",
      "Collecting charset-normalizer<4,>=2 (from requests)\n",
      "  Downloading charset_normalizer-3.3.2-cp312-cp312-win_amd64.whl.metadata (34 kB)\n",
      "Collecting idna<4,>=2.5 (from requests)\n",
      "  Downloading idna-3.7-py3-none-any.whl.metadata (9.9 kB)\n",
      "Collecting urllib3<3,>=1.21.1 (from requests)\n",
      "  Downloading urllib3-2.2.1-py3-none-any.whl.metadata (6.4 kB)\n",
      "Collecting certifi>=2017.4.17 (from requests)\n",
      "  Downloading certifi-2024.2.2-py3-none-any.whl.metadata (2.2 kB)\n",
      "Downloading requests-2.32.2-py3-none-any.whl (63 kB)\n",
      "   ---------------------------------------- 0.0/63.9 kB ? eta -:--:--\n",
      "   -------------------------------------- - 61.4/63.9 kB 1.6 MB/s eta 0:00:01\n",
      "   -------------------------------------- - 61.4/63.9 kB 1.6 MB/s eta 0:00:01\n",
      "   ---------------------------------------- 63.9/63.9 kB 487.8 kB/s eta 0:00:00\n",
      "Downloading certifi-2024.2.2-py3-none-any.whl (163 kB)\n",
      "   ---------------------------------------- 0.0/163.8 kB ? eta -:--:--\n",
      "   ---------- ----------------------------- 41.0/163.8 kB ? eta -:--:--\n",
      "   ---------- ----------------------------- 41.0/163.8 kB ? eta -:--:--\n",
      "   -------------- ------------------------ 61.4/163.8 kB 409.6 kB/s eta 0:00:01\n",
      "   ----------------------------------- -- 153.6/163.8 kB 762.6 kB/s eta 0:00:01\n",
      "   ----------------------------------- -- 153.6/163.8 kB 762.6 kB/s eta 0:00:01\n",
      "   -------------------------------------- 163.8/163.8 kB 577.2 kB/s eta 0:00:00\n",
      "Downloading charset_normalizer-3.3.2-cp312-cp312-win_amd64.whl (100 kB)\n",
      "   ---------------------------------------- 0.0/100.4 kB ? eta -:--:--\n",
      "   -------------------------------- ------- 81.9/100.4 kB ? eta -:--:--\n",
      "   -------------------------------- ------- 81.9/100.4 kB ? eta -:--:--\n",
      "   -------------------------------- ------- 81.9/100.4 kB ? eta -:--:--\n",
      "   -------------------------------- ------- 81.9/100.4 kB ? eta -:--:--\n",
      "   -------------------------------- ------- 81.9/100.4 kB ? eta -:--:--\n",
      "   -------------------------------- ------- 81.9/100.4 kB ? eta -:--:--\n",
      "   -------------------------------- ------- 81.9/100.4 kB ? eta -:--:--\n",
      "   -------------------------------- ------- 81.9/100.4 kB ? eta -:--:--\n",
      "   -------------------------------- ------- 81.9/100.4 kB ? eta -:--:--\n",
      "   -------------------------------- ------- 81.9/100.4 kB ? eta -:--:--\n",
      "   -------------------------------- ------- 81.9/100.4 kB ? eta -:--:--\n",
      "   -------------------------------- ------- 81.9/100.4 kB ? eta -:--:--\n",
      "   -------------------------------- ------- 81.9/100.4 kB ? eta -:--:--\n",
      "   -------------------------------- ------- 81.9/100.4 kB ? eta -:--:--\n",
      "   -------------------------------- ------- 81.9/100.4 kB ? eta -:--:--\n",
      "   -------------------------------- ------- 81.9/100.4 kB ? eta -:--:--\n",
      "   -------------------------------- ------- 81.9/100.4 kB ? eta -:--:--\n",
      "   -------------------------------- ------- 81.9/100.4 kB ? eta -:--:--\n",
      "   -------------------------------- ------- 81.9/100.4 kB ? eta -:--:--\n",
      "   -------------------------------- ------- 81.9/100.4 kB ? eta -:--:--\n",
      "   -------------------------------- ------- 81.9/100.4 kB ? eta -:--:--\n",
      "   -------------------------------- ------- 81.9/100.4 kB ? eta -:--:--\n",
      "   -------------------------------- ------- 81.9/100.4 kB ? eta -:--:--\n",
      "   -------------------------------- ------- 81.9/100.4 kB ? eta -:--:--\n",
      "   -------------------------------- ------- 81.9/100.4 kB ? eta -:--:--\n",
      "   -------------------------------- ------- 81.9/100.4 kB ? eta -:--:--\n",
      "   -------------------------------- ------- 81.9/100.4 kB ? eta -:--:--\n",
      "   -------------------------------- ------- 81.9/100.4 kB ? eta -:--:--\n",
      "   -------------------------------- ------- 81.9/100.4 kB ? eta -:--:--\n",
      "   ------------------------------------ --- 92.2/100.4 kB 59.6 kB/s eta 0:00:01\n",
      "   --------------------------------------- 100.4/100.4 kB 62.0 kB/s eta 0:00:00\n",
      "Downloading idna-3.7-py3-none-any.whl (66 kB)\n",
      "   ---------------------------------------- 0.0/66.8 kB ? eta -:--:--\n",
      "   ------------------------------------ --- 61.4/66.8 kB 3.2 MB/s eta 0:00:01\n",
      "   ---------------------------------------- 66.8/66.8 kB 725.6 kB/s eta 0:00:00\n",
      "Downloading urllib3-2.2.1-py3-none-any.whl (121 kB)\n",
      "   ---------------------------------------- 0.0/121.1 kB ? eta -:--:--\n",
      "   ------------- -------------------------- 41.0/121.1 kB ? eta -:--:--\n",
      "   ------------- -------------------------- 41.0/121.1 kB ? eta -:--:--\n",
      "   ------------- -------------------------- 41.0/121.1 kB ? eta -:--:--\n",
      "   ------------- -------------------------- 41.0/121.1 kB ? eta -:--:--\n",
      "   ------------- -------------------------- 41.0/121.1 kB ? eta -:--:--\n",
      "   ------------- -------------------------- 41.0/121.1 kB ? eta -:--:--\n",
      "   ------------- -------------------------- 41.0/121.1 kB ? eta -:--:--\n",
      "   ------------- -------------------------- 41.0/121.1 kB ? eta -:--:--\n",
      "   ------------- -------------------------- 41.0/121.1 kB ? eta -:--:--\n",
      "   ------------- -------------------------- 41.0/121.1 kB ? eta -:--:--\n",
      "   ------------- -------------------------- 41.0/121.1 kB ? eta -:--:--\n",
      "   ------------- -------------------------- 41.0/121.1 kB ? eta -:--:--\n",
      "   -------------------- ------------------- 61.4/121.1 kB 84.1 kB/s eta 0:00:01\n",
      "   -------------------- ------------------- 61.4/121.1 kB 84.1 kB/s eta 0:00:01\n",
      "   -------------------- ------------------- 61.4/121.1 kB 84.1 kB/s eta 0:00:01\n",
      "   -------------------- ------------------- 61.4/121.1 kB 84.1 kB/s eta 0:00:01\n",
      "   -------------------- ------------------- 61.4/121.1 kB 84.1 kB/s eta 0:00:01\n",
      "   -------------------- ------------------- 61.4/121.1 kB 84.1 kB/s eta 0:00:01\n",
      "   -------------------- ------------------- 61.4/121.1 kB 84.1 kB/s eta 0:00:01\n",
      "   ----------------------------------- -- 112.6/121.1 kB 104.1 kB/s eta 0:00:01\n",
      "   ----------------------------------- -- 112.6/121.1 kB 104.1 kB/s eta 0:00:01\n",
      "   -------------------------------------- 121.1/121.1 kB 104.4 kB/s eta 0:00:00\n",
      "Installing collected packages: urllib3, idna, charset-normalizer, certifi, requests\n",
      "Successfully installed certifi-2024.2.2 charset-normalizer-3.3.2 idna-3.7 requests-2.32.2 urllib3-2.2.1\n"
     ]
    }
   ],
   "source": [
    "!pip install requests"
   ]
  },
  {
   "cell_type": "code",
   "execution_count": 6,
   "id": "075bfbb9",
   "metadata": {},
   "outputs": [
    {
     "name": "stdout",
     "output_type": "stream",
     "text": [
      "Defaulting to user installation because normal site-packages is not writeable\n",
      "Collecting bs4\n",
      "  Downloading bs4-0.0.2-py2.py3-none-any.whl.metadata (411 bytes)\n",
      "Collecting beautifulsoup4 (from bs4)\n",
      "  Downloading beautifulsoup4-4.12.3-py3-none-any.whl.metadata (3.8 kB)\n",
      "Collecting soupsieve>1.2 (from beautifulsoup4->bs4)\n",
      "  Downloading soupsieve-2.5-py3-none-any.whl.metadata (4.7 kB)\n",
      "Downloading bs4-0.0.2-py2.py3-none-any.whl (1.2 kB)\n",
      "Downloading beautifulsoup4-4.12.3-py3-none-any.whl (147 kB)\n",
      "   ---------------------------------------- 0.0/147.9 kB ? eta -:--:--\n",
      "   -- ------------------------------------- 10.2/147.9 kB ? eta -:--:--\n",
      "   -------- ------------------------------ 30.7/147.9 kB 262.6 kB/s eta 0:00:01\n",
      "   -------- ------------------------------ 30.7/147.9 kB 262.6 kB/s eta 0:00:01\n",
      "   ---------- ---------------------------- 41.0/147.9 kB 179.6 kB/s eta 0:00:01\n",
      "   ---------------- ---------------------- 61.4/147.9 kB 252.2 kB/s eta 0:00:01\n",
      "   ------------------------------- ------ 122.9/147.9 kB 400.9 kB/s eta 0:00:01\n",
      "   -------------------------------------- 147.9/147.9 kB 419.8 kB/s eta 0:00:00\n",
      "Downloading soupsieve-2.5-py3-none-any.whl (36 kB)\n",
      "Installing collected packages: soupsieve, beautifulsoup4, bs4\n",
      "Successfully installed beautifulsoup4-4.12.3 bs4-0.0.2 soupsieve-2.5\n"
     ]
    }
   ],
   "source": [
    "!pip install bs4"
   ]
  },
  {
   "cell_type": "code",
   "execution_count": 7,
   "id": "38cbef2e",
   "metadata": {
    "execution": {
     "iopub.execute_input": "2024-05-28T03:15:31.118031Z",
     "iopub.status.busy": "2024-05-28T03:15:31.117664Z",
     "iopub.status.idle": "2024-05-28T03:15:31.416036Z",
     "shell.execute_reply": "2024-05-28T03:15:31.414793Z"
    },
    "papermill": {
     "duration": 0.306212,
     "end_time": "2024-05-28T03:15:31.418820",
     "exception": false,
     "start_time": "2024-05-28T03:15:31.112608",
     "status": "completed"
    },
    "tags": []
   },
   "outputs": [],
   "source": [
    "import csv\n",
    "import os\n",
    "import time\n",
    "import requests\n",
    "from bs4 import BeautifulSoup"
   ]
  },
  {
   "cell_type": "code",
   "execution_count": 11,
   "id": "3a322165",
   "metadata": {},
   "outputs": [],
   "source": [
    "url =' https://www.buyrentkenya.com/houses-for-sale'\n",
    "# set up the webscrapping agent for chrome\n",
    "agent = 'Mozilla/5.0 (Windows NT 10.0; Win64; x64) AppleWebKit/537.36 (KHTML, like Gecko) Chrome/122.0.0.0 Safari/537.36'\n",
    "# headers dictionary to send with the GET request\n",
    "HEADERS = {'User-Agent': agent, 'Accept-Language': 'en-US, en'}"
   ]
  },
  {
   "cell_type": "code",
   "execution_count": 12,
   "id": "6ef3ad7e",
   "metadata": {
    "execution": {
     "iopub.execute_input": "2024-05-28T03:15:31.428180Z",
     "iopub.status.busy": "2024-05-28T03:15:31.427639Z",
     "iopub.status.idle": "2024-05-28T03:15:31.892831Z",
     "shell.execute_reply": "2024-05-28T03:15:31.891338Z"
    },
    "papermill": {
     "duration": 0.472601,
     "end_time": "2024-05-28T03:15:31.895182",
     "exception": true,
     "start_time": "2024-05-28T03:15:31.422581",
     "status": "failed"
    },
    "tags": []
   },
   "outputs": [],
   "source": [
    "# get the data\n",
    "data = requests.get(url, headers=HEADERS)"
   ]
  },
  {
   "cell_type": "code",
   "execution_count": 16,
   "id": "98bc48de",
   "metadata": {
    "execution": {
     "iopub.execute_input": "2024-05-28T02:36:52.197135Z",
     "iopub.status.busy": "2024-05-28T02:36:52.196688Z",
     "iopub.status.idle": "2024-05-28T02:36:52.773901Z",
     "shell.execute_reply": "2024-05-28T02:36:52.772770Z",
     "shell.execute_reply.started": "2024-05-28T02:36:52.197101Z"
    },
    "papermill": {
     "duration": null,
     "end_time": null,
     "exception": null,
     "start_time": null,
     "status": "pending"
    },
    "tags": []
   },
   "outputs": [],
   "source": [
    "# creating a soup object\n",
    "soup = BeautifulSoup(data.text, 'html.parser')"
   ]
  },
  {
   "cell_type": "code",
   "execution_count": 18,
   "id": "8456e438",
   "metadata": {
    "execution": {
     "iopub.execute_input": "2024-05-28T03:06:46.468248Z",
     "iopub.status.busy": "2024-05-28T03:06:46.466785Z",
     "iopub.status.idle": "2024-05-28T03:06:46.537129Z",
     "shell.execute_reply": "2024-05-28T03:06:46.535595Z",
     "shell.execute_reply.started": "2024-05-28T03:06:46.468196Z"
    },
    "papermill": {
     "duration": null,
     "end_time": null,
     "exception": null,
     "start_time": null,
     "status": "pending"
    },
    "tags": []
   },
   "outputs": [],
   "source": [
    "# Finding houses data in the div\n",
    "# _ because clas is a reserved keyword in Python\n",
    "results = soup.find_all('div', class_='listing_card')"
   ]
  },
  {
   "cell_type": "code",
   "execution_count": 33,
   "id": "040ba128",
   "metadata": {
    "execution": {
     "iopub.execute_input": "2024-05-28T03:07:45.432518Z",
     "iopub.status.busy": "2024-05-28T03:07:45.432101Z",
     "iopub.status.idle": "2024-05-28T03:07:45.440867Z",
     "shell.execute_reply": "2024-05-28T03:07:45.439442Z",
     "shell.execute_reply.started": "2024-05-28T03:07:45.432472Z"
    },
    "papermill": {
     "duration": null,
     "end_time": null,
     "exception": null,
     "start_time": null,
     "status": "pending"
    },
    "tags": []
   },
   "outputs": [],
   "source": [
    "# lists to store data in\n",
    "titles = []\n",
    "prices = []\n",
    "descriptions = []\n",
    "locations = []\n",
    "no_of_bedrooms = []\n",
    "no_of_bathrooms = []\n"
   ]
  },
  {
   "cell_type": "code",
   "execution_count": 49,
   "id": "35f945df",
   "metadata": {
    "execution": {
     "iopub.execute_input": "2024-05-28T03:11:20.222025Z",
     "iopub.status.busy": "2024-05-28T03:11:20.221631Z",
     "iopub.status.idle": "2024-05-28T03:12:24.811865Z",
     "shell.execute_reply": "2024-05-28T03:12:24.810592Z",
     "shell.execute_reply.started": "2024-05-28T03:11:20.221997Z"
    },
    "papermill": {
     "duration": null,
     "end_time": null,
     "exception": null,
     "start_time": null,
     "status": "pending"
    },
    "tags": []
   },
   "outputs": [],
   "source": [
    "# find house details\n",
    "houses = soup.find_all('div', class_='listing-card')"
   ]
  },
  {
   "cell_type": "code",
   "execution_count": 53,
   "id": "49d4146e",
   "metadata": {
    "execution": {
     "iopub.execute_input": "2024-05-28T03:13:47.351930Z",
     "iopub.status.busy": "2024-05-28T03:13:47.351543Z",
     "iopub.status.idle": "2024-05-28T03:13:47.357653Z",
     "shell.execute_reply": "2024-05-28T03:13:47.356490Z",
     "shell.execute_reply.started": "2024-05-28T03:13:47.351901Z"
    },
    "papermill": {
     "duration": null,
     "end_time": null,
     "exception": null,
     "start_time": null,
     "status": "pending"
    },
    "tags": []
   },
   "outputs": [],
   "source": [
    "# loop through first page houses\n",
    "for page in range(1,180):\n",
    "\n",
    "    for house in houses:\n",
    "        title = house.find('span', class_='relative top-[2px] hidden md:inline').text.strip()\n",
    "        price = house.find('p', class_='text-xl font-bold leading-7 text-grey-900').text.strip()\n",
    "        description = house.find('a',class_='block truncate text-grey-500 no-underline').text.strip()\n",
    "        location = house.find('p', class_='ml-1 truncate text-sm font-normal capitalize text-grey-650').text.strip()\n",
    "        no_of_bedroom = house.find_all('span', class_='whitespace-nowrap font-normal')[0].text.strip()\n",
    "        no_of_bathroom = house.find_all('span', class_='whitespace-nowrap font-normal')[1].text.strip()\n",
    "\n",
    "        titles.append(title)\n",
    "        locations.append(location)\n",
    "        descriptions.append(description)\n",
    "        prices.append(price)\n",
    "        no_of_bedrooms.append(no_of_bedroom)\n",
    "        no_of_bathrooms.append(no_of_bathroom)\n",
    "        "
   ]
  },
  {
   "cell_type": "code",
   "execution_count": 55,
   "metadata": {},
   "outputs": [
    {
     "data": {
      "text/plain": [
       "True"
      ]
     },
     "execution_count": 55,
     "metadata": {},
     "output_type": "execute_result"
    }
   ],
   "source": [
    "# check whether all the data was scraped successfully\n",
    "len(titles) == len(locations)"
   ]
  }
 ],
 "metadata": {
  "kaggle": {
   "accelerator": "none",
   "dataSources": [],
   "dockerImageVersionId": 30558,
   "isGpuEnabled": false,
   "isInternetEnabled": true,
   "language": "python",
   "sourceType": "notebook"
  },
  "kernelspec": {
   "display_name": "Python 3",
   "language": "python",
   "name": "python3"
  },
  "language_info": {
   "codemirror_mode": {
    "name": "ipython",
    "version": 3
   },
   "file_extension": ".py",
   "mimetype": "text/x-python",
   "name": "python",
   "nbconvert_exporter": "python",
   "pygments_lexer": "ipython3",
   "version": "3.12.3"
  },
  "papermill": {
   "default_parameters": {},
   "duration": 5.741517,
   "end_time": "2024-05-28T03:15:32.319880",
   "environment_variables": {},
   "exception": true,
   "input_path": "__notebook__.ipynb",
   "output_path": "__notebook__.ipynb",
   "parameters": {},
   "start_time": "2024-05-28T03:15:26.578363",
   "version": "2.4.0"
  }
 },
 "nbformat": 4,
 "nbformat_minor": 5
}
