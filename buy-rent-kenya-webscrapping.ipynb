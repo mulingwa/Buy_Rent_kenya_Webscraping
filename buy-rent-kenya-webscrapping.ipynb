{
 "cells": [
  {
   "cell_type": "code",
   "execution_count": 1,
   "id": "348711a7",
   "metadata": {
    "execution": {
     "iopub.execute_input": "2024-05-28T03:15:31.091263Z",
     "iopub.status.busy": "2024-05-28T03:15:31.090740Z",
     "iopub.status.idle": "2024-05-28T03:15:31.103992Z",
     "shell.execute_reply": "2024-05-28T03:15:31.102687Z"
    },
    "papermill": {
     "duration": 0.02207,
     "end_time": "2024-05-28T03:15:31.106792",
     "exception": false,
     "start_time": "2024-05-28T03:15:31.084722",
     "status": "completed"
    },
    "tags": []
   },
   "outputs": [],
   "source": [
    "url_base =' https://www.buyrentkenya.com/houses-for-sale'\n",
    "headers = {'User-Agent': 'Chrome'}"
   ]
  },
  {
   "cell_type": "code",
   "execution_count": 2,
   "id": "38cbef2e",
   "metadata": {
    "execution": {
     "iopub.execute_input": "2024-05-28T03:15:31.118031Z",
     "iopub.status.busy": "2024-05-28T03:15:31.117664Z",
     "iopub.status.idle": "2024-05-28T03:15:31.416036Z",
     "shell.execute_reply": "2024-05-28T03:15:31.414793Z"
    },
    "papermill": {
     "duration": 0.306212,
     "end_time": "2024-05-28T03:15:31.418820",
     "exception": false,
     "start_time": "2024-05-28T03:15:31.112608",
     "status": "completed"
    },
    "tags": []
   },
   "outputs": [],
   "source": [
    "import csv\n",
    "import os\n",
    "import time\n",
    "import requests\n",
    "from bs4 import BeautifulSoup"
   ]
  },
  {
   "cell_type": "code",
   "execution_count": 3,
   "id": "6ef3ad7e",
   "metadata": {
    "execution": {
     "iopub.execute_input": "2024-05-28T03:15:31.428180Z",
     "iopub.status.busy": "2024-05-28T03:15:31.427639Z",
     "iopub.status.idle": "2024-05-28T03:15:31.892831Z",
     "shell.execute_reply": "2024-05-28T03:15:31.891338Z"
    },
    "papermill": {
     "duration": 0.472601,
     "end_time": "2024-05-28T03:15:31.895182",
     "exception": true,
     "start_time": "2024-05-28T03:15:31.422581",
     "status": "failed"
    },
    "tags": []
   },
   "outputs": [
    {
     "ename": "NameError",
     "evalue": "name 'url' is not defined",
     "output_type": "error",
     "traceback": [
      "\u001b[0;31m---------------------------------------------------------------------------\u001b[0m",
      "\u001b[0;31mNameError\u001b[0m                                 Traceback (most recent call last)",
      "Cell \u001b[0;32mIn[3], line 2\u001b[0m\n\u001b[1;32m      1\u001b[0m \u001b[38;5;66;03m# get the data\u001b[39;00m\n\u001b[0;32m----> 2\u001b[0m data \u001b[38;5;241m=\u001b[39m requests\u001b[38;5;241m.\u001b[39mget(\u001b[43murl\u001b[49m)\u001b[38;5;241m.\u001b[39mcontent\n",
      "\u001b[0;31mNameError\u001b[0m: name 'url' is not defined"
     ]
    }
   ],
   "source": [
    "# get the data\n",
    "data = requests.get(url).content"
   ]
  },
  {
   "cell_type": "code",
   "execution_count": null,
   "id": "98bc48de",
   "metadata": {
    "execution": {
     "iopub.execute_input": "2024-05-28T02:36:52.197135Z",
     "iopub.status.busy": "2024-05-28T02:36:52.196688Z",
     "iopub.status.idle": "2024-05-28T02:36:52.773901Z",
     "shell.execute_reply": "2024-05-28T02:36:52.772770Z",
     "shell.execute_reply.started": "2024-05-28T02:36:52.197101Z"
    },
    "papermill": {
     "duration": null,
     "end_time": null,
     "exception": null,
     "start_time": null,
     "status": "pending"
    },
    "tags": []
   },
   "outputs": [],
   "source": [
    "# creating a soup object\n",
    "\n",
    "soup = BeautifulSoup(data, 'html.parser')"
   ]
  },
  {
   "cell_type": "code",
   "execution_count": null,
   "id": "8456e438",
   "metadata": {
    "execution": {
     "iopub.execute_input": "2024-05-28T03:06:46.468248Z",
     "iopub.status.busy": "2024-05-28T03:06:46.466785Z",
     "iopub.status.idle": "2024-05-28T03:06:46.537129Z",
     "shell.execute_reply": "2024-05-28T03:06:46.535595Z",
     "shell.execute_reply.started": "2024-05-28T03:06:46.468196Z"
    },
    "papermill": {
     "duration": null,
     "end_time": null,
     "exception": null,
     "start_time": null,
     "status": "pending"
    },
    "tags": []
   },
   "outputs": [],
   "source": [
    "results = soup.find_all(divclass=\"flex flex-col justify-between px-5 py-4 md:w-3/5\")"
   ]
  },
  {
   "cell_type": "code",
   "execution_count": null,
   "id": "040ba128",
   "metadata": {
    "execution": {
     "iopub.execute_input": "2024-05-28T03:07:45.432518Z",
     "iopub.status.busy": "2024-05-28T03:07:45.432101Z",
     "iopub.status.idle": "2024-05-28T03:07:45.440867Z",
     "shell.execute_reply": "2024-05-28T03:07:45.439442Z",
     "shell.execute_reply.started": "2024-05-28T03:07:45.432472Z"
    },
    "papermill": {
     "duration": null,
     "end_time": null,
     "exception": null,
     "start_time": null,
     "status": "pending"
    },
    "tags": []
   },
   "outputs": [],
   "source": [
    "houses_data = []\n",
    "# Get the path to the Kaggle Notebooks working directory\n",
    "working_directory = os.path.join('/kaggle/working')\n",
    "\n",
    "# Save the data to a CSV file in the Kaggle Notebooks working directory\n",
    "csv_file_path = os.path.join(working_directory, 'houses-for-sale.csv')\n",
    "with open(csv_file_path, 'w', newline='', encoding='utf-8') as f:\n",
    "    csv_writer = csv.DictWriter(f, fieldnames=['title', 'location', 'size', 'selling price'])\n",
    "    csv_writer.writeheader()\n",
    "    csv_writer.writerows(houses_data)\n"
   ]
  },
  {
   "cell_type": "code",
   "execution_count": null,
   "id": "35f945df",
   "metadata": {
    "execution": {
     "iopub.execute_input": "2024-05-28T03:11:20.222025Z",
     "iopub.status.busy": "2024-05-28T03:11:20.221631Z",
     "iopub.status.idle": "2024-05-28T03:12:24.811865Z",
     "shell.execute_reply": "2024-05-28T03:12:24.810592Z",
     "shell.execute_reply.started": "2024-05-28T03:11:20.221997Z"
    },
    "papermill": {
     "duration": null,
     "end_time": null,
     "exception": null,
     "start_time": null,
     "status": "pending"
    },
    "tags": []
   },
   "outputs": [],
   "source": [
    "for page in range(1, 125):\n",
    "    url= url_base + str(page)\n",
    "    response = requests.get(url, headers=headers) \n",
    "    soup = BeautifulSoup(response.content, 'html.parser') \n",
    "    listings = soup.find_all('div', class_='px-5') \n",
    "    for listing in listings: \n",
    "        title = listing.find('span', class_='hidden').text.strip() \n",
    "        location = listing.find('p', class_='text-sm').text.strip() \n",
    "        size = listing.find('a', class_='text-grey-500').text.strip() \n",
    "        price = listing.find('div', {'class': 'flex justify-between items-center'}).text.strip() \n",
    "        houses_data.append({'title': title, 'location': location, 'size': size, 'selling price': price})\n"
   ]
  },
  {
   "cell_type": "code",
   "execution_count": null,
   "id": "49d4146e",
   "metadata": {
    "execution": {
     "iopub.execute_input": "2024-05-28T03:13:47.351930Z",
     "iopub.status.busy": "2024-05-28T03:13:47.351543Z",
     "iopub.status.idle": "2024-05-28T03:13:47.357653Z",
     "shell.execute_reply": "2024-05-28T03:13:47.356490Z",
     "shell.execute_reply.started": "2024-05-28T03:13:47.351901Z"
    },
    "papermill": {
     "duration": null,
     "end_time": null,
     "exception": null,
     "start_time": null,
     "status": "pending"
    },
    "tags": []
   },
   "outputs": [],
   "source": [
    "print(listings)"
   ]
  }
 ],
 "metadata": {
  "kaggle": {
   "accelerator": "none",
   "dataSources": [],
   "dockerImageVersionId": 30558,
   "isGpuEnabled": false,
   "isInternetEnabled": true,
   "language": "python",
   "sourceType": "notebook"
  },
  "kernelspec": {
   "display_name": "Python 3",
   "language": "python",
   "name": "python3"
  },
  "language_info": {
   "codemirror_mode": {
    "name": "ipython",
    "version": 3
   },
   "file_extension": ".py",
   "mimetype": "text/x-python",
   "name": "python",
   "nbconvert_exporter": "python",
   "pygments_lexer": "ipython3",
   "version": "3.10.12"
  },
  "papermill": {
   "default_parameters": {},
   "duration": 5.741517,
   "end_time": "2024-05-28T03:15:32.319880",
   "environment_variables": {},
   "exception": true,
   "input_path": "__notebook__.ipynb",
   "output_path": "__notebook__.ipynb",
   "parameters": {},
   "start_time": "2024-05-28T03:15:26.578363",
   "version": "2.4.0"
  }
 },
 "nbformat": 4,
 "nbformat_minor": 5
}
