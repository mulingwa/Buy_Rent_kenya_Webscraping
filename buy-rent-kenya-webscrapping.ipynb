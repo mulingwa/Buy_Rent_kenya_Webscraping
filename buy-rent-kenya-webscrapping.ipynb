{
 "cells": [
  {
   "cell_type": "code",
   "execution_count": 1,
   "id": "2987c3f9",
   "metadata": {},
   "outputs": [
    {
     "name": "stdout",
     "output_type": "stream",
     "text": [
      "Defaulting to user installation because normal site-packages is not writeable\n",
      "Requirement already satisfied: requests in c:\\users\\admin\\appdata\\local\\packages\\pythonsoftwarefoundation.python.3.12_qbz5n2kfra8p0\\localcache\\local-packages\\python312\\site-packages (2.32.2)\n",
      "Requirement already satisfied: charset-normalizer<4,>=2 in c:\\users\\admin\\appdata\\local\\packages\\pythonsoftwarefoundation.python.3.12_qbz5n2kfra8p0\\localcache\\local-packages\\python312\\site-packages (from requests) (3.3.2)\n",
      "Requirement already satisfied: idna<4,>=2.5 in c:\\users\\admin\\appdata\\local\\packages\\pythonsoftwarefoundation.python.3.12_qbz5n2kfra8p0\\localcache\\local-packages\\python312\\site-packages (from requests) (3.7)\n",
      "Requirement already satisfied: urllib3<3,>=1.21.1 in c:\\users\\admin\\appdata\\local\\packages\\pythonsoftwarefoundation.python.3.12_qbz5n2kfra8p0\\localcache\\local-packages\\python312\\site-packages (from requests) (2.2.1)\n",
      "Requirement already satisfied: certifi>=2017.4.17 in c:\\users\\admin\\appdata\\local\\packages\\pythonsoftwarefoundation.python.3.12_qbz5n2kfra8p0\\localcache\\local-packages\\python312\\site-packages (from requests) (2024.2.2)\n"
     ]
    }
   ],
   "source": [
    "!pip install requests"
   ]
  },
  {
   "cell_type": "code",
   "execution_count": 2,
   "id": "075bfbb9",
   "metadata": {},
   "outputs": [
    {
     "name": "stdout",
     "output_type": "stream",
     "text": [
      "Defaulting to user installation because normal site-packages is not writeable\n",
      "Requirement already satisfied: bs4 in c:\\users\\admin\\appdata\\local\\packages\\pythonsoftwarefoundation.python.3.12_qbz5n2kfra8p0\\localcache\\local-packages\\python312\\site-packages (0.0.2)\n",
      "Requirement already satisfied: beautifulsoup4 in c:\\users\\admin\\appdata\\local\\packages\\pythonsoftwarefoundation.python.3.12_qbz5n2kfra8p0\\localcache\\local-packages\\python312\\site-packages (from bs4) (4.12.3)\n",
      "Requirement already satisfied: soupsieve>1.2 in c:\\users\\admin\\appdata\\local\\packages\\pythonsoftwarefoundation.python.3.12_qbz5n2kfra8p0\\localcache\\local-packages\\python312\\site-packages (from beautifulsoup4->bs4) (2.5)\n"
     ]
    }
   ],
   "source": [
    "!pip install bs4"
   ]
  },
  {
   "cell_type": "code",
   "execution_count": 3,
   "id": "38cbef2e",
   "metadata": {
    "execution": {
     "iopub.execute_input": "2024-05-28T03:15:31.118031Z",
     "iopub.status.busy": "2024-05-28T03:15:31.117664Z",
     "iopub.status.idle": "2024-05-28T03:15:31.416036Z",
     "shell.execute_reply": "2024-05-28T03:15:31.414793Z"
    },
    "papermill": {
     "duration": 0.306212,
     "end_time": "2024-05-28T03:15:31.418820",
     "exception": false,
     "start_time": "2024-05-28T03:15:31.112608",
     "status": "completed"
    },
    "tags": []
   },
   "outputs": [],
   "source": [
    "import csv\n",
    "import os\n",
    "import time\n",
    "import requests\n",
    "from bs4 import BeautifulSoup"
   ]
  },
  {
   "cell_type": "code",
   "execution_count": 4,
   "id": "3a322165",
   "metadata": {},
   "outputs": [],
   "source": [
    "url =' https://www.buyrentkenya.com/houses-for-sale'\n",
    "# set up the webscrapping agent for chrome\n",
    "agent = 'Mozilla/5.0 (Windows NT 10.0; Win64; x64) AppleWebKit/537.36 (KHTML, like Gecko) Chrome/122.0.0.0 Safari/537.36'\n",
    "# headers dictionary to send with the GET request\n",
    "HEADERS = {'User-Agent': agent, 'Accept-Language': 'en-US, en'}"
   ]
  },
  {
   "cell_type": "code",
   "execution_count": 5,
   "id": "6ef3ad7e",
   "metadata": {
    "execution": {
     "iopub.execute_input": "2024-05-28T03:15:31.428180Z",
     "iopub.status.busy": "2024-05-28T03:15:31.427639Z",
     "iopub.status.idle": "2024-05-28T03:15:31.892831Z",
     "shell.execute_reply": "2024-05-28T03:15:31.891338Z"
    },
    "papermill": {
     "duration": 0.472601,
     "end_time": "2024-05-28T03:15:31.895182",
     "exception": true,
     "start_time": "2024-05-28T03:15:31.422581",
     "status": "failed"
    },
    "tags": []
   },
   "outputs": [],
   "source": [
    "# get the data\n",
    "data = requests.get(url, headers=HEADERS)"
   ]
  },
  {
   "cell_type": "code",
   "execution_count": 6,
   "id": "98bc48de",
   "metadata": {
    "execution": {
     "iopub.execute_input": "2024-05-28T02:36:52.197135Z",
     "iopub.status.busy": "2024-05-28T02:36:52.196688Z",
     "iopub.status.idle": "2024-05-28T02:36:52.773901Z",
     "shell.execute_reply": "2024-05-28T02:36:52.772770Z",
     "shell.execute_reply.started": "2024-05-28T02:36:52.197101Z"
    },
    "papermill": {
     "duration": null,
     "end_time": null,
     "exception": null,
     "start_time": null,
     "status": "pending"
    },
    "tags": []
   },
   "outputs": [],
   "source": [
    "# creating a soup object\n",
    "soup = BeautifulSoup(data.text, 'html.parser')"
   ]
  },
  {
   "cell_type": "code",
   "execution_count": 7,
   "id": "8456e438",
   "metadata": {
    "execution": {
     "iopub.execute_input": "2024-05-28T03:06:46.468248Z",
     "iopub.status.busy": "2024-05-28T03:06:46.466785Z",
     "iopub.status.idle": "2024-05-28T03:06:46.537129Z",
     "shell.execute_reply": "2024-05-28T03:06:46.535595Z",
     "shell.execute_reply.started": "2024-05-28T03:06:46.468196Z"
    },
    "papermill": {
     "duration": null,
     "end_time": null,
     "exception": null,
     "start_time": null,
     "status": "pending"
    },
    "tags": []
   },
   "outputs": [],
   "source": [
    "# Finding houses data in the div\n",
    "# because class is a reserved keyword in Python\n",
    "results = soup.find_all('div', class_='listing_card')"
   ]
  },
  {
   "cell_type": "code",
   "execution_count": 8,
   "id": "040ba128",
   "metadata": {
    "execution": {
     "iopub.execute_input": "2024-05-28T03:07:45.432518Z",
     "iopub.status.busy": "2024-05-28T03:07:45.432101Z",
     "iopub.status.idle": "2024-05-28T03:07:45.440867Z",
     "shell.execute_reply": "2024-05-28T03:07:45.439442Z",
     "shell.execute_reply.started": "2024-05-28T03:07:45.432472Z"
    },
    "papermill": {
     "duration": null,
     "end_time": null,
     "exception": null,
     "start_time": null,
     "status": "pending"
    },
    "tags": []
   },
   "outputs": [],
   "source": [
    "# lists to store data in\n",
    "titles = []\n",
    "prices = []\n",
    "descriptions = []\n",
    "locations = []\n",
    "no_of_bedrooms = []\n",
    "no_of_bathrooms = []\n"
   ]
  },
  {
   "cell_type": "code",
   "execution_count": 9,
   "id": "35f945df",
   "metadata": {
    "execution": {
     "iopub.execute_input": "2024-05-28T03:11:20.222025Z",
     "iopub.status.busy": "2024-05-28T03:11:20.221631Z",
     "iopub.status.idle": "2024-05-28T03:12:24.811865Z",
     "shell.execute_reply": "2024-05-28T03:12:24.810592Z",
     "shell.execute_reply.started": "2024-05-28T03:11:20.221997Z"
    },
    "papermill": {
     "duration": null,
     "end_time": null,
     "exception": null,
     "start_time": null,
     "status": "pending"
    },
    "tags": []
   },
   "outputs": [],
   "source": [
    "# find house details\n",
    "houses = soup.find_all('div', class_='listing-card')"
   ]
  },
  {
   "cell_type": "code",
   "execution_count": 10,
   "id": "49d4146e",
   "metadata": {
    "execution": {
     "iopub.execute_input": "2024-05-28T03:13:47.351930Z",
     "iopub.status.busy": "2024-05-28T03:13:47.351543Z",
     "iopub.status.idle": "2024-05-28T03:13:47.357653Z",
     "shell.execute_reply": "2024-05-28T03:13:47.356490Z",
     "shell.execute_reply.started": "2024-05-28T03:13:47.351901Z"
    },
    "papermill": {
     "duration": null,
     "end_time": null,
     "exception": null,
     "start_time": null,
     "status": "pending"
    },
    "tags": []
   },
   "outputs": [],
   "source": [
    "# loop through first page houses\n",
    "for page in range(1,188):\n",
    "\n",
    "    for house in houses:\n",
    "        title = house.find('span', class_='relative top-[2px] hidden md:inline').text.strip()\n",
    "        price = house.find('p', class_='text-xl font-bold leading-7 text-grey-900').text.strip()\n",
    "        description = house.find('a',class_='block truncate text-grey-500 no-underline').text.strip()\n",
    "        location = house.find('p', class_='ml-1 truncate text-sm font-normal capitalize text-grey-650').text.strip()\n",
    "        no_of_bedroom = house.find_all('span', class_='whitespace-nowrap font-normal')[0].text.strip()\n",
    "        no_of_bathroom = house.find_all('span', class_='whitespace-nowrap font-normal')[1].text.strip()\n",
    "\n",
    "        titles.append(title)\n",
    "        locations.append(location)\n",
    "        descriptions.append(description)\n",
    "        prices.append(price)\n",
    "        no_of_bedrooms.append(no_of_bedroom)\n",
    "        no_of_bathrooms.append(no_of_bathroom)\n",
    "        "
   ]
  },
  {
   "cell_type": "code",
   "execution_count": 11,
   "metadata": {},
   "outputs": [
    {
     "data": {
      "text/plain": [
       "True"
      ]
     },
     "execution_count": 11,
     "metadata": {},
     "output_type": "execute_result"
    }
   ],
   "source": [
    "# check whether all the data was scraped successfully\n",
    "len(titles) == len(locations) == len(descriptions) == len(prices) == len(no_of_bedrooms) == len(no_of_bathrooms)"
   ]
  },
  {
   "cell_type": "code",
   "execution_count": 12,
   "id": "aea22007",
   "metadata": {},
   "outputs": [
    {
     "name": "stdout",
     "output_type": "stream",
     "text": [
      "Defaulting to user installation because normal site-packages is not writeable\n",
      "Requirement already satisfied: pandas in c:\\users\\admin\\appdata\\local\\packages\\pythonsoftwarefoundation.python.3.12_qbz5n2kfra8p0\\localcache\\local-packages\\python312\\site-packages (2.2.2)\n",
      "Requirement already satisfied: numpy>=1.26.0 in c:\\users\\admin\\appdata\\local\\packages\\pythonsoftwarefoundation.python.3.12_qbz5n2kfra8p0\\localcache\\local-packages\\python312\\site-packages (from pandas) (1.26.4)\n",
      "Requirement already satisfied: python-dateutil>=2.8.2 in c:\\users\\admin\\appdata\\local\\packages\\pythonsoftwarefoundation.python.3.12_qbz5n2kfra8p0\\localcache\\local-packages\\python312\\site-packages (from pandas) (2.8.2)\n",
      "Requirement already satisfied: pytz>=2020.1 in c:\\users\\admin\\appdata\\local\\packages\\pythonsoftwarefoundation.python.3.12_qbz5n2kfra8p0\\localcache\\local-packages\\python312\\site-packages (from pandas) (2024.1)\n",
      "Requirement already satisfied: tzdata>=2022.7 in c:\\users\\admin\\appdata\\local\\packages\\pythonsoftwarefoundation.python.3.12_qbz5n2kfra8p0\\localcache\\local-packages\\python312\\site-packages (from pandas) (2024.1)\n",
      "Requirement already satisfied: six>=1.5 in c:\\users\\admin\\appdata\\local\\packages\\pythonsoftwarefoundation.python.3.12_qbz5n2kfra8p0\\localcache\\local-packages\\python312\\site-packages (from python-dateutil>=2.8.2->pandas) (1.16.0)\n"
     ]
    }
   ],
   "source": [
    "!pip install pandas"
   ]
  },
  {
   "cell_type": "code",
   "execution_count": 17,
   "id": "78849277",
   "metadata": {},
   "outputs": [],
   "source": [
    "# create a dataset and store the scraped data\n",
    "import pandas as pd\n",
    "df = pd.DataFrame(\n",
    "    {'Title': titles,\n",
    "     'Location': locations,\n",
    "     'Description': descriptions,\n",
    "     'Price': prices,\n",
    "     'No_of_bedrooms': no_of_bedrooms,\n",
    "     'No_of_bathrooms': no_of_bathrooms}\n",
    ")"
   ]
  },
  {
   "cell_type": "code",
   "execution_count": 18,
   "id": "b0b05557",
   "metadata": {},
   "outputs": [
    {
     "data": {
      "text/html": [
       "<div>\n",
       "<style scoped>\n",
       "    .dataframe tbody tr th:only-of-type {\n",
       "        vertical-align: middle;\n",
       "    }\n",
       "\n",
       "    .dataframe tbody tr th {\n",
       "        vertical-align: top;\n",
       "    }\n",
       "\n",
       "    .dataframe thead th {\n",
       "        text-align: right;\n",
       "    }\n",
       "</style>\n",
       "<table border=\"1\" class=\"dataframe\">\n",
       "  <thead>\n",
       "    <tr style=\"text-align: right;\">\n",
       "      <th></th>\n",
       "      <th>Title</th>\n",
       "      <th>Location</th>\n",
       "      <th>Description</th>\n",
       "      <th>Price</th>\n",
       "      <th>No_of_bedrooms</th>\n",
       "      <th>No_of_bathrooms</th>\n",
       "    </tr>\n",
       "  </thead>\n",
       "  <tbody>\n",
       "    <tr>\n",
       "      <th>0</th>\n",
       "      <td>4 Bed Villa with En Suite at 00620</td>\n",
       "      <td>64911, 00620, Thika Road</td>\n",
       "      <td>The Oint Country Homes</td>\n",
       "      <td>KSh 24,800,000</td>\n",
       "      <td>4</td>\n",
       "      <td>4</td>\n",
       "    </tr>\n",
       "    <tr>\n",
       "      <th>1</th>\n",
       "      <td>5 Bed House with En Suite at Karen Road</td>\n",
       "      <td>Karen Road, Karen</td>\n",
       "      <td>5 Bedrooms Villas For Sale in Karen, Aria Park</td>\n",
       "      <td>KSh 140,000,000</td>\n",
       "      <td>5</td>\n",
       "      <td>6</td>\n",
       "    </tr>\n",
       "    <tr>\n",
       "      <th>2</th>\n",
       "      <td>4 Bed Townhouse with En Suite at Gikambura</td>\n",
       "      <td>GIKAMBURA, Kikuyu Town, Kikuyu</td>\n",
       "      <td>4 BEDROOM TOWNHOUSE IN KIKUYU,@11.5M</td>\n",
       "      <td>KSh 11,500,000</td>\n",
       "      <td>4</td>\n",
       "      <td>4</td>\n",
       "    </tr>\n",
       "    <tr>\n",
       "      <th>3</th>\n",
       "      <td>4 Bed Townhouse with En Suite in Lavington</td>\n",
       "      <td>Lavington</td>\n",
       "      <td>Town House For Sale -Lavington along Njumbi Ro...</td>\n",
       "      <td>KSh 80,000,000</td>\n",
       "      <td>4</td>\n",
       "      <td>4</td>\n",
       "    </tr>\n",
       "    <tr>\n",
       "      <th>4</th>\n",
       "      <td>5 Bed House with En Suite at Runda</td>\n",
       "      <td>Runda, Westlands</td>\n",
       "      <td>1.629 ACRES FOR SALE IN RUNDA NAIROBI KENYA</td>\n",
       "      <td>KSh 585,000,000</td>\n",
       "      <td>5</td>\n",
       "      <td>5</td>\n",
       "    </tr>\n",
       "  </tbody>\n",
       "</table>\n",
       "</div>"
      ],
      "text/plain": [
       "                                        Title                        Location  \\\n",
       "0          4 Bed Villa with En Suite at 00620        64911, 00620, Thika Road   \n",
       "1     5 Bed House with En Suite at Karen Road               Karen Road, Karen   \n",
       "2  4 Bed Townhouse with En Suite at Gikambura  GIKAMBURA, Kikuyu Town, Kikuyu   \n",
       "3  4 Bed Townhouse with En Suite in Lavington                       Lavington   \n",
       "4          5 Bed House with En Suite at Runda                Runda, Westlands   \n",
       "\n",
       "                                         Description            Price  \\\n",
       "0                             The Oint Country Homes   KSh 24,800,000   \n",
       "1     5 Bedrooms Villas For Sale in Karen, Aria Park  KSh 140,000,000   \n",
       "2               4 BEDROOM TOWNHOUSE IN KIKUYU,@11.5M   KSh 11,500,000   \n",
       "3  Town House For Sale -Lavington along Njumbi Ro...   KSh 80,000,000   \n",
       "4        1.629 ACRES FOR SALE IN RUNDA NAIROBI KENYA  KSh 585,000,000   \n",
       "\n",
       "  No_of_bedrooms No_of_bathrooms  \n",
       "0              4               4  \n",
       "1              5               6  \n",
       "2              4               4  \n",
       "3              4               4  \n",
       "4              5               5  "
      ]
     },
     "execution_count": 18,
     "metadata": {},
     "output_type": "execute_result"
    }
   ],
   "source": [
    "df.head()"
   ]
  },
  {
   "cell_type": "code",
   "execution_count": 30,
   "id": "808503a0",
   "metadata": {},
   "outputs": [
    {
     "data": {
      "text/plain": [
       "(3366, 6)"
      ]
     },
     "execution_count": 30,
     "metadata": {},
     "output_type": "execute_result"
    }
   ],
   "source": [
    "df.shape"
   ]
  },
  {
   "cell_type": "code",
   "execution_count": 34,
   "id": "19629635",
   "metadata": {},
   "outputs": [],
   "source": [
    "df.to_csv('rents.csv', index=False, encoding='utf-8')"
   ]
  },
  {
   "cell_type": "code",
   "execution_count": 32,
   "id": "d1407278",
   "metadata": {},
   "outputs": [],
   "source": [
    "# find duplicates\n",
    "df_clean = df.drop_duplicates()"
   ]
  },
  {
   "cell_type": "code",
   "execution_count": 33,
   "id": "6be897a8",
   "metadata": {},
   "outputs": [
    {
     "data": {
      "text/plain": [
       "(18, 6)"
      ]
     },
     "execution_count": 33,
     "metadata": {},
     "output_type": "execute_result"
    }
   ],
   "source": [
    "df_clean.shape"
   ]
  },
  {
   "cell_type": "code",
   "execution_count": 20,
   "id": "19129c73",
   "metadata": {},
   "outputs": [
    {
     "data": {
      "text/plain": [
       "(3366, 6)"
      ]
     },
     "execution_count": 20,
     "metadata": {},
     "output_type": "execute_result"
    }
   ],
   "source": [
    "df.shape"
   ]
  },
  {
   "cell_type": "markdown",
   "id": "91c34a78",
   "metadata": {},
   "source": [
    "EDA"
   ]
  },
  {
   "cell_type": "code",
   "execution_count": null,
   "id": "7bc64797",
   "metadata": {},
   "outputs": [],
   "source": [
    "# Duplicates(find and drop)"
   ]
  },
  {
   "cell_type": "code",
   "execution_count": 75,
   "id": "a1a81e41",
   "metadata": {},
   "outputs": [
    {
     "data": {
      "text/plain": [
       "Title                0\n",
       "Location             0\n",
       "Description          0\n",
       "Price                0\n",
       "No_of_bedrooms       0\n",
       "No_of_bathrooms    187\n",
       "dtype: int64"
      ]
     },
     "execution_count": 75,
     "metadata": {},
     "output_type": "execute_result"
    }
   ],
   "source": [
    "# Find nulls\n",
    "df.isna().sum()"
   ]
  },
  {
   "cell_type": "code",
   "execution_count": 70,
   "id": "a716c9ef",
   "metadata": {},
   "outputs": [],
   "source": [
    "# Remove Ksh prefix, commas and convert to int\n",
    "# df['Price'] = df['Price'].astype('string')\n",
    "df['Price'] = pd.to_numeric(df['Price'].str.replace('KSh', '').str.replace('Ksh', '').str.replace(',', '').str.strip())"
   ]
  },
  {
   "cell_type": "code",
   "execution_count": 58,
   "id": "7e91b559",
   "metadata": {},
   "outputs": [],
   "source": [
    "df['No_of_bathrooms'] = pd.to_numeric(df['No_of_bathrooms'])\n",
    "df['No_of_bedrooms'] = pd.to_numeric(df['No_of_bedrooms'])"
   ]
  },
  {
   "cell_type": "code",
   "execution_count": 74,
   "id": "60823180",
   "metadata": {},
   "outputs": [
    {
     "data": {
      "text/plain": [
       "187"
      ]
     },
     "execution_count": 74,
     "metadata": {},
     "output_type": "execute_result"
    }
   ],
   "source": [
    "# Finding null values in no. of bathrooms column\n",
    "df['No_of_bathrooms'].isna().sum()\n"
   ]
  },
  {
   "cell_type": "code",
   "execution_count": 76,
   "id": "0b5a8621",
   "metadata": {},
   "outputs": [],
   "source": [
    "# Replace NA in No of bathrooms with 0\n",
    "df['No_of_bathrooms'] = df['No_of_bathrooms'].fillna(0)"
   ]
  },
  {
   "cell_type": "code",
   "execution_count": 79,
   "id": "7681343f",
   "metadata": {},
   "outputs": [],
   "source": [
    "# Convert type to int\n",
    "df['No_of_bathrooms'] = df['No_of_bathrooms'].astype(int)"
   ]
  },
  {
   "cell_type": "code",
   "execution_count": 82,
   "id": "38eb94dc",
   "metadata": {},
   "outputs": [
    {
     "data": {
      "text/plain": [
       "Title              object\n",
       "Location           object\n",
       "Description        object\n",
       "Price               Int64\n",
       "No_of_bedrooms      int64\n",
       "No_of_bathrooms     int32\n",
       "dtype: object"
      ]
     },
     "execution_count": 82,
     "metadata": {},
     "output_type": "execute_result"
    }
   ],
   "source": [
    "# find data types\n",
    "df.dtypes"
   ]
  },
  {
   "cell_type": "code",
   "execution_count": 87,
   "id": "2a0fc5bd",
   "metadata": {},
   "outputs": [],
   "source": [
    "df_clean = df"
   ]
  },
  {
   "cell_type": "code",
   "execution_count": 96,
   "id": "4c33b7c8",
   "metadata": {},
   "outputs": [],
   "source": [
    "df['Location'] = df['Location'].str.split(',').str[-1].str.strip()"
   ]
  },
  {
   "cell_type": "code",
   "execution_count": 102,
   "id": "ad39b909",
   "metadata": {},
   "outputs": [
    {
     "data": {
      "text/html": [
       "<div>\n",
       "<style scoped>\n",
       "    .dataframe tbody tr th:only-of-type {\n",
       "        vertical-align: middle;\n",
       "    }\n",
       "\n",
       "    .dataframe tbody tr th {\n",
       "        vertical-align: top;\n",
       "    }\n",
       "\n",
       "    .dataframe thead th {\n",
       "        text-align: right;\n",
       "    }\n",
       "</style>\n",
       "<table border=\"1\" class=\"dataframe\">\n",
       "  <thead>\n",
       "    <tr style=\"text-align: right;\">\n",
       "      <th></th>\n",
       "      <th>Title</th>\n",
       "      <th>Location</th>\n",
       "      <th>Description</th>\n",
       "      <th>Price</th>\n",
       "      <th>No_of_bedrooms</th>\n",
       "      <th>No_of_bathrooms</th>\n",
       "    </tr>\n",
       "  </thead>\n",
       "  <tbody>\n",
       "    <tr>\n",
       "      <th>0</th>\n",
       "      <td>4 Bed Villa with En Suite at 00620</td>\n",
       "      <td>Thika Road</td>\n",
       "      <td>The Oint Country Homes</td>\n",
       "      <td>24800000</td>\n",
       "      <td>4</td>\n",
       "      <td>4</td>\n",
       "    </tr>\n",
       "    <tr>\n",
       "      <th>1</th>\n",
       "      <td>5 Bed House with En Suite at Karen Road</td>\n",
       "      <td>Karen</td>\n",
       "      <td>5 Bedrooms Villas For Sale in Karen, Aria Park</td>\n",
       "      <td>140000000</td>\n",
       "      <td>5</td>\n",
       "      <td>6</td>\n",
       "    </tr>\n",
       "    <tr>\n",
       "      <th>2</th>\n",
       "      <td>4 Bed Townhouse with En Suite at Gikambura</td>\n",
       "      <td>Kikuyu</td>\n",
       "      <td>4 BEDROOM TOWNHOUSE IN KIKUYU,@11.5M</td>\n",
       "      <td>11500000</td>\n",
       "      <td>4</td>\n",
       "      <td>4</td>\n",
       "    </tr>\n",
       "    <tr>\n",
       "      <th>3</th>\n",
       "      <td>4 Bed Townhouse with En Suite in Lavington</td>\n",
       "      <td>Lavington</td>\n",
       "      <td>Town House For Sale -Lavington along Njumbi Ro...</td>\n",
       "      <td>80000000</td>\n",
       "      <td>4</td>\n",
       "      <td>4</td>\n",
       "    </tr>\n",
       "    <tr>\n",
       "      <th>4</th>\n",
       "      <td>5 Bed House with En Suite at Runda</td>\n",
       "      <td>Westlands</td>\n",
       "      <td>1.629 ACRES FOR SALE IN RUNDA NAIROBI KENYA</td>\n",
       "      <td>585000000</td>\n",
       "      <td>5</td>\n",
       "      <td>5</td>\n",
       "    </tr>\n",
       "  </tbody>\n",
       "</table>\n",
       "</div>"
      ],
      "text/plain": [
       "                                        Title    Location  \\\n",
       "0          4 Bed Villa with En Suite at 00620  Thika Road   \n",
       "1     5 Bed House with En Suite at Karen Road       Karen   \n",
       "2  4 Bed Townhouse with En Suite at Gikambura      Kikuyu   \n",
       "3  4 Bed Townhouse with En Suite in Lavington   Lavington   \n",
       "4          5 Bed House with En Suite at Runda   Westlands   \n",
       "\n",
       "                                         Description      Price  \\\n",
       "0                             The Oint Country Homes   24800000   \n",
       "1     5 Bedrooms Villas For Sale in Karen, Aria Park  140000000   \n",
       "2               4 BEDROOM TOWNHOUSE IN KIKUYU,@11.5M   11500000   \n",
       "3  Town House For Sale -Lavington along Njumbi Ro...   80000000   \n",
       "4        1.629 ACRES FOR SALE IN RUNDA NAIROBI KENYA  585000000   \n",
       "\n",
       "   No_of_bedrooms  No_of_bathrooms  \n",
       "0               4                4  \n",
       "1               5                6  \n",
       "2               4                4  \n",
       "3               4                4  \n",
       "4               5                5  "
      ]
     },
     "execution_count": 102,
     "metadata": {},
     "output_type": "execute_result"
    }
   ],
   "source": [
    "df.head()"
   ]
  },
  {
   "cell_type": "code",
   "execution_count": 104,
   "id": "0067af1b",
   "metadata": {},
   "outputs": [
    {
     "data": {
      "text/plain": [
       "3348"
      ]
     },
     "execution_count": 104,
     "metadata": {},
     "output_type": "execute_result"
    }
   ],
   "source": [
    "df.duplicated().sum()"
   ]
  },
  {
   "cell_type": "code",
   "execution_count": 110,
   "id": "0bae1eb6",
   "metadata": {},
   "outputs": [
    {
     "name": "stdout",
     "output_type": "stream",
     "text": [
      "0.5425834538790998\n"
     ]
    }
   ],
   "source": [
    "print(df['No_of_bedrooms'].corr(df['Price']))"
   ]
  },
  {
   "cell_type": "code",
   "execution_count": 108,
   "id": "073de1f5",
   "metadata": {},
   "outputs": [
    {
     "name": "stdout",
     "output_type": "stream",
     "text": [
      "0.39506938563461763\n"
     ]
    }
   ],
   "source": [
    "print(df['Price'].corr(df['No_of_bathrooms']))"
   ]
  },
  {
   "cell_type": "code",
   "execution_count": 109,
   "metadata": {},
   "outputs": [
    {
     "name": "stdout",
     "output_type": "stream",
     "text": [
      "0.8353497940087828\n"
     ]
    }
   ],
   "source": [
    "print(df['No_of_bedrooms'].corr(df['No_of_bathrooms']))"
   ]
  }
 ],
 "metadata": {
  "kaggle": {
   "accelerator": "none",
   "dataSources": [],
   "dockerImageVersionId": 30558,
   "isGpuEnabled": false,
   "isInternetEnabled": true,
   "language": "python",
   "sourceType": "notebook"
  },
  "kernelspec": {
   "display_name": "Python 3",
   "language": "python",
   "name": "python3"
  },
  "language_info": {
   "codemirror_mode": {
    "name": "ipython",
    "version": 3
   },
   "file_extension": ".py",
   "mimetype": "text/x-python",
   "name": "python",
   "nbconvert_exporter": "python",
   "pygments_lexer": "ipython3",
   "version": "3.12.3"
  },
  "papermill": {
   "default_parameters": {},
   "duration": 5.741517,
   "end_time": "2024-05-28T03:15:32.319880",
   "environment_variables": {},
   "exception": true,
   "input_path": "__notebook__.ipynb",
   "output_path": "__notebook__.ipynb",
   "parameters": {},
   "start_time": "2024-05-28T03:15:26.578363",
   "version": "2.4.0"
  }
 },
 "nbformat": 4,
 "nbformat_minor": 5
}
